{
 "cells": [
  {
   "cell_type": "code",
   "execution_count": 1,
   "id": "2c51efaa",
   "metadata": {},
   "outputs": [
    {
     "name": "stdout",
     "output_type": "stream",
     "text": [
      "scikit-learn==1.6.1\n"
     ]
    }
   ],
   "source": [
    "!pip freeze | grep scikit-learn"
   ]
  },
  {
   "cell_type": "code",
   "execution_count": 2,
   "id": "4acf73a0-51b5-4663-9bb8-8eb947863e17",
   "metadata": {},
   "outputs": [
    {
     "name": "stdout",
     "output_type": "stream",
     "text": [
      "Python 3.12.3\n"
     ]
    }
   ],
   "source": [
    "!python -V\n"
   ]
  },
  {
   "cell_type": "code",
   "execution_count": 3,
   "id": "0ef880a0",
   "metadata": {},
   "outputs": [],
   "source": [
    "import pickle\n",
    "import pandas as pd\n",
    "import numpy as np"
   ]
  },
  {
   "cell_type": "code",
   "execution_count": 4,
   "id": "7836ccfd",
   "metadata": {},
   "outputs": [
    {
     "name": "stderr",
     "output_type": "stream",
     "text": [
      "/home/dave/slprf/lib/python3.12/site-packages/sklearn/base.py:380: InconsistentVersionWarning: Trying to unpickle estimator DictVectorizer from version 1.5.0 when using version 1.6.1. This might lead to breaking code or invalid results. Use at your own risk. For more info please refer to:\n",
      "https://scikit-learn.org/stable/model_persistence.html#security-maintainability-limitations\n",
      "  warnings.warn(\n",
      "/home/dave/slprf/lib/python3.12/site-packages/sklearn/base.py:380: InconsistentVersionWarning: Trying to unpickle estimator LinearRegression from version 1.5.0 when using version 1.6.1. This might lead to breaking code or invalid results. Use at your own risk. For more info please refer to:\n",
      "https://scikit-learn.org/stable/model_persistence.html#security-maintainability-limitations\n",
      "  warnings.warn(\n"
     ]
    }
   ],
   "source": [
    "with open('model.bin', 'rb') as f_in:\n",
    "    dv, model = pickle.load(f_in)"
   ]
  },
  {
   "cell_type": "code",
   "execution_count": 5,
   "id": "41c08294",
   "metadata": {},
   "outputs": [],
   "source": [
    "categorical = ['PULocationID', 'DOLocationID']\n",
    "\n",
    "def read_data(filename):\n",
    "    df = pd.read_parquet(filename)\n",
    "    \n",
    "    df['duration'] = df.tpep_dropoff_datetime - df.tpep_pickup_datetime\n",
    "    df['duration'] = df.duration.dt.total_seconds() / 60\n",
    "\n",
    "    df = df[(df.duration >= 1) & (df.duration <= 60)].copy()\n",
    "\n",
    "    df[categorical] = df[categorical].fillna(-1).astype('int').astype('str')\n",
    "    \n",
    "    return df"
   ]
  },
  {
   "cell_type": "code",
   "execution_count": 6,
   "id": "4854399a",
   "metadata": {},
   "outputs": [],
   "source": [
    "df = read_data('https://d37ci6vzurychx.cloudfront.net/trip-data/yellow_tripdata_2023-03.parquet')\n"
   ]
  },
  {
   "cell_type": "code",
   "execution_count": 8,
   "id": "669fda0a",
   "metadata": {},
   "outputs": [],
   "source": [
    "dicts = df[categorical].to_dict(orient='records')\n",
    "X_val = dv.transform(dicts)\n",
    "y_pred = model.predict(X_val)"
   ]
  },
  {
   "cell_type": "code",
   "execution_count": null,
   "id": "b7c2ac8f",
   "metadata": {},
   "outputs": [],
   "source": []
  },
  {
   "cell_type": "markdown",
   "id": "c73c6017",
   "metadata": {},
   "source": [
    "\n",
    "## Q1. Notebook\n",
    "\n",
    "We'll start with the same notebook we ended up with in homework 1.\n",
    "We cleaned it a little bit and kept only the scoring part. You can find the initial notebook [here](homework/starter.ipynb).\n",
    "\n",
    "Run this notebook for the March 2023 data.\n",
    "\n",
    "What's the standard deviation of the predicted duration for this dataset?\n"
   ]
  },
  {
   "cell_type": "code",
   "execution_count": 9,
   "id": "bf532ae7-1897-428c-ba0c-875ccaf7d76c",
   "metadata": {},
   "outputs": [
    {
     "name": "stdout",
     "output_type": "stream",
     "text": [
      "6.247488852238703\n"
     ]
    }
   ],
   "source": [
    "std_dev = np.std(y_pred)\n",
    "print(std_dev)"
   ]
  },
  {
   "cell_type": "markdown",
   "id": "29d30400",
   "metadata": {},
   "source": [
    "## Q2. Preparing the output\n",
    "\n",
    "Like in the course videos, we want to prepare the dataframe with the output. \n",
    "\n",
    "First, let's create an artificial `ride_id` column:"
   ]
  },
  {
   "cell_type": "code",
   "execution_count": 11,
   "id": "25521a02",
   "metadata": {},
   "outputs": [
    {
     "data": {
      "text/plain": [
       "Index(['VendorID', 'tpep_pickup_datetime', 'tpep_dropoff_datetime',\n",
       "       'passenger_count', 'trip_distance', 'RatecodeID', 'store_and_fwd_flag',\n",
       "       'PULocationID', 'DOLocationID', 'payment_type', 'fare_amount', 'extra',\n",
       "       'mta_tax', 'tip_amount', 'tolls_amount', 'improvement_surcharge',\n",
       "       'total_amount', 'congestion_surcharge', 'Airport_fee', 'duration'],\n",
       "      dtype='object')"
      ]
     },
     "execution_count": 11,
     "metadata": {},
     "output_type": "execute_result"
    }
   ],
   "source": [
    "df.columns"
   ]
  },
  {
   "cell_type": "code",
   "execution_count": 12,
   "id": "06f4153a",
   "metadata": {},
   "outputs": [],
   "source": [
    "df['prediction'] = y_pred\n",
    "df['year'] = df.tpep_pickup_datetime.dt.year\n",
    "df['month'] = df.tpep_pickup_datetime.dt.month\n",
    "df['ride_id'] = df['year'].astype(str).str.zfill(4) + '/' + df['month'].astype(str).str.zfill(2) + '_' + df.index.astype('str')"
   ]
  },
  {
   "cell_type": "code",
   "execution_count": 13,
   "id": "e1d8347b",
   "metadata": {},
   "outputs": [],
   "source": [
    "output_file = 'result.parquet'"
   ]
  },
  {
   "cell_type": "code",
   "execution_count": 19,
   "id": "34ba0b72",
   "metadata": {},
   "outputs": [
    {
     "name": "stdout",
     "output_type": "stream",
     "text": [
      "Predictions saved to result.parquet\n",
      "Mean predicted duration: 14.203865642696083\n"
     ]
    }
   ],
   "source": [
    "df_result = df[['ride_id', 'prediction']].copy()\n",
    "df_result.to_parquet(\n",
    "        output_file,\n",
    "        engine='pyarrow',\n",
    "        compression=None,\n",
    "        index=False\n",
    "    )\n",
    "print(f\"Predictions saved to {output_file}\")\n",
    "print(f\"Mean predicted duration: {np.mean(y_pred)}\") "
   ]
  },
  {
   "cell_type": "code",
   "execution_count": 22,
   "id": "6d6a0f0b",
   "metadata": {},
   "outputs": [
    {
     "name": "stdout",
     "output_type": "stream",
     "text": [
      "Size of the output file: 65.46 MB\n"
     ]
    }
   ],
   "source": [
    "import os\n",
    "\n",
    "size_bytes = os.path.getsize(output_file)\n",
    "size_MB = size_bytes / (1024 * 1024)\n",
    "print(f'Size of the output file: {size_MB:.2f} MB')"
   ]
  },
  {
   "cell_type": "markdown",
   "id": "b985f244",
   "metadata": {},
   "source": [
    "## Q3. Creating the scoring script\n",
    "\n",
    "Now let's turn the notebook into a script. \n",
    "\n",
    "Which command you need to execute for that?"
   ]
  },
  {
   "cell_type": "code",
   "execution_count": 28,
   "id": "bd4b8ca0",
   "metadata": {},
   "outputs": [
    {
     "name": "stdout",
     "output_type": "stream",
     "text": [
      "[NbConvertApp] Converting notebook starter.ipynb to script\n",
      "[NbConvertApp] Writing 3057 bytes to starter.py\n"
     ]
    }
   ],
   "source": [
    "# Turn notebook to script\n",
    "!jupyter nbconvert --to=script starter.ipynb"
   ]
  },
  {
   "cell_type": "markdown",
   "id": "571a987e",
   "metadata": {},
   "source": [
    "## Q4. Virtual environment\n",
    "\n",
    "Now let's put everything into a virtual environment. We'll use pipenv for that.\n",
    "\n",
    "Install all the required libraries. Pay attention to the Scikit-Learn version: it should be the same as in the starter\n",
    "notebook.\n",
    "\n",
    "After installing the libraries, pipenv creates two files: `Pipfile`\n",
    "and `Pipfile.lock`. The `Pipfile.lock` file keeps the hashes of the\n",
    "dependencies we use for the virtual env.\n",
    "\n",
    "What's the first hash for the Scikit-Learn dependency?"
   ]
  },
  {
   "cell_type": "code",
   "execution_count": 33,
   "id": "8ecdea80",
   "metadata": {},
   "outputs": [
    {
     "name": "stdout",
     "output_type": "stream",
     "text": [
      "        \"scikit-learn\": {\n",
      "            \"hashes\": [\n",
      "                \"sha256:0650e730afb87402baa88afbf31c07b84c98272622aaba002559b614600ca691\",\n"
     ]
    }
   ],
   "source": [
    "cat Pipfile.lock | grep -A 5 '\"scikit-learn\"' | head -n 3\n"
   ]
  },
  {
   "cell_type": "markdown",
   "id": "fa3a83c1",
   "metadata": {},
   "source": [
    "## Q5. Parametrize the script\n",
    "\n",
    "Let's now make the script configurable via CLI. We'll create two \n",
    "parameters: year and month.\n",
    "\n",
    "Run the script for April 2023. \n",
    "\n",
    "What's the mean predicted duration? "
   ]
  },
  {
   "cell_type": "code",
   "execution_count": 15,
   "id": "5afce806",
   "metadata": {},
   "outputs": [
    {
     "name": "stdout",
     "output_type": "stream",
     "text": [
      "/home/dave/slprf/lib/python3.12/site-packages/sklearn/base.py:380: InconsistentVersionWarning: Trying to unpickle estimator DictVectorizer from version 1.5.0 when using version 1.6.1. This might lead to breaking code or invalid results. Use at your own risk. For more info please refer to:\n",
      "https://scikit-learn.org/stable/model_persistence.html#security-maintainability-limitations\n",
      "  warnings.warn(\n",
      "/home/dave/slprf/lib/python3.12/site-packages/sklearn/base.py:380: InconsistentVersionWarning: Trying to unpickle estimator LinearRegression from version 1.5.0 when using version 1.6.1. This might lead to breaking code or invalid results. Use at your own risk. For more info please refer to:\n",
      "https://scikit-learn.org/stable/model_persistence.html#security-maintainability-limitations\n",
      "  warnings.warn(\n",
      "Mean predicted duration for 04/2023: 14.29 minutes\n"
     ]
    }
   ],
   "source": [
    "!python script_cli.py 2023 4"
   ]
  },
  {
   "cell_type": "markdown",
   "id": "269780f7",
   "metadata": {},
   "source": [
    "## Q6. Docker container \n",
    "\n",
    "Finally, we'll package the script in the docker container. \n",
    "For that, you'll need to use a base image that we prepared. \n",
    "\n",
    "This is what the content of this image is:\n",
    "\n",
    "```dockerfile\n",
    "FROM python:3.10.13-slim\n",
    "\n",
    "WORKDIR /app\n",
    "COPY [ \"model2.bin\", \"model.bin\" ]\n",
    "```\n",
    "\n",
    "Note: you don't need to run it. We have already done it.\n",
    "\n",
    "It is pushed to [`agrigorev/zoomcamp-model:mlops-2024-3.10.13-slim`](https://hub.docker.com/layers/agrigorev/zoomcamp-model/mlops-2024-3.10.13-slim/images/sha256-f54535b73a8c3ef91967d5588de57d4e251b22addcbbfb6e71304a91c1c7027f?context=repo),\n",
    "which you need to use as your base image.\n",
    "\n",
    "That is, your Dockerfile should start with:"
   ]
  },
  {
   "cell_type": "code",
   "execution_count": 26,
   "id": "09c92ba0",
   "metadata": {},
   "outputs": [
    {
     "name": "stdout",
     "output_type": "stream",
     "text": [
      "\u001b[1A\u001b[1B\u001b[0G\u001b[?25l\n",
      "\u001b[?25h\u001b[1A\u001b[0G\u001b[?25l[+] Building 0.0s (0/1)                                          docker:default\n",
      " => [internal] load build definition from dockerfile                       0.0s\n",
      "\u001b[?25h\u001b[1A\u001b[1A\u001b[0G\u001b[?25l[+] Building 0.2s (1/1)                                          docker:default\n",
      "\u001b[34m => [internal] load build definition from dockerfile                       0.2s\n",
      "\u001b[0m\u001b[34m => => transferring dockerfile: 386B                                       0.0s\n",
      "\u001b[0m\u001b[?25h\u001b[1A\u001b[1A\u001b[1A\u001b[0G\u001b[?25l[+] Building 0.4s (1/2)                                          docker:default\n",
      "\u001b[34m => [internal] load build definition from dockerfile                       0.2s\n",
      "\u001b[0m\u001b[34m => => transferring dockerfile: 386B                                       0.0s\n",
      "\u001b[0m => [internal] load metadata for docker.io/agrigorev/zoomcamp-model:mlops  0.2s\n",
      "\u001b[?25h\u001b[1A\u001b[1A\u001b[1A\u001b[1A\u001b[0G\u001b[?25l[+] Building 0.6s (1/2)                                          docker:default\n",
      "\u001b[34m => [internal] load build definition from dockerfile                       0.2s\n",
      "\u001b[0m\u001b[34m => => transferring dockerfile: 386B                                       0.0s\n",
      "\u001b[0m => [internal] load metadata for docker.io/agrigorev/zoomcamp-model:mlops  0.3s\n",
      "\u001b[?25h\u001b[1A\u001b[1A\u001b[1A\u001b[1A\u001b[0G\u001b[?25l[+] Building 0.7s (1/2)                                          docker:default\n",
      "\u001b[34m => [internal] load build definition from dockerfile                       0.2s\n",
      "\u001b[0m\u001b[34m => => transferring dockerfile: 386B                                       0.0s\n",
      "\u001b[0m => [internal] load metadata for docker.io/agrigorev/zoomcamp-model:mlops  0.5s\n",
      "\u001b[?25h\u001b[1A\u001b[1A\u001b[1A\u001b[1A\u001b[0G\u001b[?25l[+] Building 0.9s (2/2)                                          docker:default\n",
      "\u001b[34m => [internal] load build definition from dockerfile                       0.2s\n",
      "\u001b[0m\u001b[34m => => transferring dockerfile: 386B                                       0.0s\n",
      "\u001b[0m\u001b[34m => [internal] load metadata for docker.io/agrigorev/zoomcamp-model:mlops  0.6s\n",
      "\u001b[0m\u001b[?25h\u001b[1A\u001b[1A\u001b[1A\u001b[1A\u001b[0G\u001b[?25l[+] Building 1.0s (3/3)                                          docker:default\n",
      "\u001b[34m => [internal] load build definition from dockerfile                       0.2s\n",
      "\u001b[0m\u001b[34m => => transferring dockerfile: 386B                                       0.0s\n",
      "\u001b[0m\u001b[34m => [internal] load metadata for docker.io/agrigorev/zoomcamp-model:mlops  0.6s\n",
      "\u001b[0m\u001b[34m => [internal] load .dockerignore                                          0.2s\n",
      "\u001b[0m\u001b[34m => => transferring context: 2B                                            0.0s\n",
      "\u001b[0m\u001b[?25h\u001b[1A\u001b[1A\u001b[1A\u001b[1A\u001b[1A\u001b[1A\u001b[0G\u001b[?25l[+] Building 1.3s (4/11)                                         docker:default\n",
      "\u001b[34m => [internal] load build definition from dockerfile                       0.2s\n",
      "\u001b[0m\u001b[34m => => transferring dockerfile: 386B                                       0.0s\n",
      "\u001b[0m\u001b[34m => [internal] load metadata for docker.io/agrigorev/zoomcamp-model:mlops  0.6s\n",
      "\u001b[0m\u001b[34m => [internal] load .dockerignore                                          0.2s\n",
      "\u001b[0m\u001b[34m => => transferring context: 2B                                            0.0s\n",
      "\u001b[0m\u001b[34m => [1/7] FROM docker.io/agrigorev/zoomcamp-model:mlops-2024-3.10.13-slim  0.0s\n",
      "\u001b[0m => [internal] load build context                                          0.2s\n",
      "\u001b[34m => => transferring context: 95B                                           0.0s\n",
      "\u001b[0m\u001b[?25h\u001b[1A\u001b[1A\u001b[1A\u001b[1A\u001b[1A\u001b[1A\u001b[1A\u001b[1A\u001b[1A\u001b[0G\u001b[?25l[+] Building 1.3s (5/11)                                         docker:default\n",
      "\u001b[34m => [internal] load build definition from dockerfile                       0.2s\n",
      "\u001b[0m\u001b[34m => => transferring dockerfile: 386B                                       0.0s\n",
      "\u001b[0m\u001b[34m => [internal] load metadata for docker.io/agrigorev/zoomcamp-model:mlops  0.6s\n",
      "\u001b[0m\u001b[34m => [internal] load .dockerignore                                          0.2s\n",
      "\u001b[0m\u001b[34m => => transferring context: 2B                                            0.0s\n",
      "\u001b[0m\u001b[34m => [1/7] FROM docker.io/agrigorev/zoomcamp-model:mlops-2024-3.10.13-slim  0.0s\n",
      "\u001b[0m\u001b[34m => [internal] load build context                                          0.2s\n",
      "\u001b[0m\u001b[34m => => transferring context: 95B                                           0.0s\n",
      "\u001b[0m\u001b[?25h\u001b[1A\u001b[1A\u001b[1A\u001b[1A\u001b[1A\u001b[1A\u001b[1A\u001b[1A\u001b[1A\u001b[0G\u001b[?25l[+] Building 1.4s (11/12)                                        docker:default\n",
      "\u001b[34m => [internal] load build definition from dockerfile                       0.2s\n",
      "\u001b[0m\u001b[34m => => transferring dockerfile: 386B                                       0.0s\n",
      "\u001b[0m\u001b[34m => [internal] load metadata for docker.io/agrigorev/zoomcamp-model:mlops  0.6s\n",
      "\u001b[0m\u001b[34m => [internal] load .dockerignore                                          0.2s\n",
      "\u001b[0m\u001b[34m => => transferring context: 2B                                            0.0s\n",
      "\u001b[0m\u001b[34m => [1/7] FROM docker.io/agrigorev/zoomcamp-model:mlops-2024-3.10.13-slim  0.0s\n",
      "\u001b[0m\u001b[34m => [internal] load build context                                          0.2s\n",
      "\u001b[0m\u001b[34m => => transferring context: 95B                                           0.0s\n",
      "\u001b[0m\u001b[34m => CACHED [2/7] RUN pip install -U pip                                    0.0s\n",
      "\u001b[0m\u001b[34m => CACHED [3/7] RUN pip install pipenv                                    0.0s\n",
      "\u001b[0m\u001b[34m => CACHED [4/7] COPY [ Pipfile, Pipfile.lock, ./ ]                        0.0s\n",
      "\u001b[0m\u001b[34m => CACHED [5/7] RUN pipenv install --system --deploy                      0.0s\n",
      "\u001b[0m\u001b[34m => CACHED [6/7] RUN pip install --no-cache-dir pandas numpy scikit-learn  0.0s\n",
      "\u001b[0m\u001b[34m => CACHED [7/7] COPY [ script_cli.py, script_cli.py ]                     0.0s\n",
      "\u001b[0m => exporting to image                                                     0.1s\n",
      "\u001b[34m => => exporting layers                                                    0.0s\n",
      "\u001b[0m\u001b[34m => => writing image sha256:ba7acd689fbd2ded3ca94f3f421556369bc3138aa52b8  0.1s\n",
      "\u001b[0m => => naming to docker.io/library/ride-duration-prediction                0.0s\n",
      "\u001b[?25h\u001b[1A\u001b[1A\u001b[1A\u001b[1A\u001b[1A\u001b[1A\u001b[1A\u001b[1A\u001b[1A\u001b[1A\u001b[1A\u001b[1A\u001b[1A\u001b[1A\u001b[1A\u001b[1A\u001b[1A\u001b[1A\u001b[1A\u001b[0G\u001b[?25l[+] Building 1.6s (11/12)                                        docker:default\n",
      "\u001b[34m => [internal] load build definition from dockerfile                       0.2s\n",
      "\u001b[0m\u001b[34m => => transferring dockerfile: 386B                                       0.0s\n",
      "\u001b[0m\u001b[34m => [internal] load metadata for docker.io/agrigorev/zoomcamp-model:mlops  0.6s\n",
      "\u001b[0m\u001b[34m => [internal] load .dockerignore                                          0.2s\n",
      "\u001b[0m\u001b[34m => => transferring context: 2B                                            0.0s\n",
      "\u001b[0m\u001b[34m => [1/7] FROM docker.io/agrigorev/zoomcamp-model:mlops-2024-3.10.13-slim  0.0s\n",
      "\u001b[0m\u001b[34m => [internal] load build context                                          0.2s\n",
      "\u001b[0m\u001b[34m => => transferring context: 95B                                           0.0s\n",
      "\u001b[0m\u001b[34m => CACHED [2/7] RUN pip install -U pip                                    0.0s\n",
      "\u001b[0m\u001b[34m => CACHED [3/7] RUN pip install pipenv                                    0.0s\n",
      "\u001b[0m\u001b[34m => CACHED [4/7] COPY [ Pipfile, Pipfile.lock, ./ ]                        0.0s\n",
      "\u001b[0m\u001b[34m => CACHED [5/7] RUN pipenv install --system --deploy                      0.0s\n",
      "\u001b[0m\u001b[34m => CACHED [6/7] RUN pip install --no-cache-dir pandas numpy scikit-learn  0.0s\n",
      "\u001b[0m\u001b[34m => CACHED [7/7] COPY [ script_cli.py, script_cli.py ]                     0.0s\n",
      "\u001b[0m => exporting to image                                                     0.2s\n",
      "\u001b[34m => => exporting layers                                                    0.0s\n",
      "\u001b[0m\u001b[34m => => writing image sha256:ba7acd689fbd2ded3ca94f3f421556369bc3138aa52b8  0.1s\n",
      "\u001b[0m => => naming to docker.io/library/ride-duration-prediction                0.2s\n",
      "\u001b[?25h\u001b[1A\u001b[1A\u001b[1A\u001b[1A\u001b[1A\u001b[1A\u001b[1A\u001b[1A\u001b[1A\u001b[1A\u001b[1A\u001b[1A\u001b[1A\u001b[1A\u001b[1A\u001b[1A\u001b[1A\u001b[1A\u001b[1A\u001b[0G\u001b[?25l[+] Building 1.6s (11/12)                                        docker:default\n",
      "\u001b[34m => [internal] load build definition from dockerfile                       0.2s\n",
      "\u001b[0m\u001b[34m => => transferring dockerfile: 386B                                       0.0s\n",
      "\u001b[0m\u001b[34m => [internal] load metadata for docker.io/agrigorev/zoomcamp-model:mlops  0.6s\n",
      "\u001b[0m\u001b[34m => [internal] load .dockerignore                                          0.2s\n",
      "\u001b[0m\u001b[34m => => transferring context: 2B                                            0.0s\n",
      "\u001b[0m\u001b[34m => [1/7] FROM docker.io/agrigorev/zoomcamp-model:mlops-2024-3.10.13-slim  0.0s\n",
      "\u001b[0m\u001b[34m => [internal] load build context                                          0.2s\n",
      "\u001b[0m\u001b[34m => => transferring context: 95B                                           0.0s\n",
      "\u001b[0m\u001b[34m => CACHED [2/7] RUN pip install -U pip                                    0.0s\n",
      "\u001b[0m\u001b[34m => CACHED [3/7] RUN pip install pipenv                                    0.0s\n",
      "\u001b[0m\u001b[34m => CACHED [4/7] COPY [ Pipfile, Pipfile.lock, ./ ]                        0.0s\n",
      "\u001b[0m\u001b[34m => CACHED [5/7] RUN pipenv install --system --deploy                      0.0s\n",
      "\u001b[0m\u001b[34m => CACHED [6/7] RUN pip install --no-cache-dir pandas numpy scikit-learn  0.0s\n",
      "\u001b[0m\u001b[34m => CACHED [7/7] COPY [ script_cli.py, script_cli.py ]                     0.0s\n",
      "\u001b[0m => exporting to image                                                     0.2s\n",
      "\u001b[34m => => exporting layers                                                    0.0s\n",
      "\u001b[0m\u001b[34m => => writing image sha256:ba7acd689fbd2ded3ca94f3f421556369bc3138aa52b8  0.1s\n",
      "\u001b[0m\u001b[34m => => naming to docker.io/library/ride-duration-prediction                0.2s\n",
      "\u001b[0m\u001b[?25h\u001b[1A\u001b[1A\u001b[1A\u001b[1A\u001b[1A\u001b[1A\u001b[1A\u001b[1A\u001b[1A\u001b[1A\u001b[1A\u001b[1A\u001b[1A\u001b[1A\u001b[1A\u001b[1A\u001b[1A\u001b[1A\u001b[1A\u001b[0G\u001b[?25l[+] Building 1.7s (11/12)                                        docker:default\n",
      "\u001b[34m => [internal] load build definition from dockerfile                       0.2s\n",
      "\u001b[0m\u001b[34m => => transferring dockerfile: 386B                                       0.0s\n",
      "\u001b[0m\u001b[34m => [internal] load metadata for docker.io/agrigorev/zoomcamp-model:mlops  0.6s\n",
      "\u001b[0m\u001b[34m => [internal] load .dockerignore                                          0.2s\n",
      "\u001b[0m\u001b[34m => => transferring context: 2B                                            0.0s\n",
      "\u001b[0m\u001b[34m => [1/7] FROM docker.io/agrigorev/zoomcamp-model:mlops-2024-3.10.13-slim  0.0s\n",
      "\u001b[0m\u001b[34m => [internal] load build context                                          0.2s\n",
      "\u001b[0m\u001b[34m => => transferring context: 95B                                           0.0s\n",
      "\u001b[0m\u001b[34m => CACHED [2/7] RUN pip install -U pip                                    0.0s\n",
      "\u001b[0m\u001b[34m => CACHED [3/7] RUN pip install pipenv                                    0.0s\n",
      "\u001b[0m\u001b[34m => CACHED [4/7] COPY [ Pipfile, Pipfile.lock, ./ ]                        0.0s\n",
      "\u001b[0m\u001b[34m => CACHED [5/7] RUN pipenv install --system --deploy                      0.0s\n",
      "\u001b[0m\u001b[34m => CACHED [6/7] RUN pip install --no-cache-dir pandas numpy scikit-learn  0.0s\n",
      "\u001b[0m\u001b[34m => CACHED [7/7] COPY [ script_cli.py, script_cli.py ]                     0.0s\n",
      "\u001b[0m => exporting to image                                                     0.4s\n",
      "\u001b[34m => => exporting layers                                                    0.0s\n",
      "\u001b[0m\u001b[34m => => writing image sha256:ba7acd689fbd2ded3ca94f3f421556369bc3138aa52b8  0.1s\n",
      "\u001b[0m\u001b[34m => => naming to docker.io/library/ride-duration-prediction                0.2s\n",
      "\u001b[0m\u001b[?25h\u001b[1A\u001b[1A\u001b[1A\u001b[1A\u001b[1A\u001b[1A\u001b[1A\u001b[1A\u001b[1A\u001b[1A\u001b[1A\u001b[1A\u001b[1A\u001b[1A\u001b[1A\u001b[1A\u001b[1A\u001b[1A\u001b[1A\u001b[0G\u001b[?25l[+] Building 1.9s (12/12)                                        docker:default\n",
      "\u001b[34m => [internal] load build definition from dockerfile                       0.2s\n",
      "\u001b[0m\u001b[34m => => transferring dockerfile: 386B                                       0.0s\n",
      "\u001b[0m\u001b[34m => [internal] load metadata for docker.io/agrigorev/zoomcamp-model:mlops  0.6s\n",
      "\u001b[0m\u001b[34m => [internal] load .dockerignore                                          0.2s\n",
      "\u001b[0m\u001b[34m => => transferring context: 2B                                            0.0s\n",
      "\u001b[0m\u001b[34m => [1/7] FROM docker.io/agrigorev/zoomcamp-model:mlops-2024-3.10.13-slim  0.0s\n",
      "\u001b[0m\u001b[34m => [internal] load build context                                          0.2s\n",
      "\u001b[0m\u001b[34m => => transferring context: 95B                                           0.0s\n",
      "\u001b[0m\u001b[34m => CACHED [2/7] RUN pip install -U pip                                    0.0s\n",
      "\u001b[0m\u001b[34m => CACHED [3/7] RUN pip install pipenv                                    0.0s\n",
      "\u001b[0m\u001b[34m => CACHED [4/7] COPY [ Pipfile, Pipfile.lock, ./ ]                        0.0s\n",
      "\u001b[0m\u001b[34m => CACHED [5/7] RUN pipenv install --system --deploy                      0.0s\n",
      "\u001b[0m\u001b[34m => CACHED [6/7] RUN pip install --no-cache-dir pandas numpy scikit-learn  0.0s\n",
      "\u001b[0m\u001b[34m => CACHED [7/7] COPY [ script_cli.py, script_cli.py ]                     0.0s\n",
      "\u001b[0m\u001b[34m => exporting to image                                                     0.5s\n",
      "\u001b[0m\u001b[34m => => exporting layers                                                    0.0s\n",
      "\u001b[0m\u001b[34m => => writing image sha256:ba7acd689fbd2ded3ca94f3f421556369bc3138aa52b8  0.1s\n",
      "\u001b[0m\u001b[34m => => naming to docker.io/library/ride-duration-prediction                0.2s\n",
      "\u001b[0m\u001b[?25h\u001b[1A\u001b[1A\u001b[1A\u001b[1A\u001b[1A\u001b[1A\u001b[1A\u001b[1A\u001b[1A\u001b[1A\u001b[1A\u001b[1A\u001b[1A\u001b[1A\u001b[1A\u001b[1A\u001b[1A\u001b[1A\u001b[1A\u001b[0G\u001b[?25l[+] Building 2.0s (12/12)                                        docker:default\n",
      "\u001b[34m => [internal] load build definition from dockerfile                       0.2s\n",
      "\u001b[0m\u001b[34m => => transferring dockerfile: 386B                                       0.0s\n",
      "\u001b[0m\u001b[34m => [internal] load metadata for docker.io/agrigorev/zoomcamp-model:mlops  0.6s\n",
      "\u001b[0m\u001b[34m => [internal] load .dockerignore                                          0.2s\n",
      "\u001b[0m\u001b[34m => => transferring context: 2B                                            0.0s\n",
      "\u001b[0m\u001b[34m => [1/7] FROM docker.io/agrigorev/zoomcamp-model:mlops-2024-3.10.13-slim  0.0s\n",
      "\u001b[0m\u001b[34m => [internal] load build context                                          0.2s\n",
      "\u001b[0m\u001b[34m => => transferring context: 95B                                           0.0s\n",
      "\u001b[0m\u001b[34m => CACHED [2/7] RUN pip install -U pip                                    0.0s\n",
      "\u001b[0m\u001b[34m => CACHED [3/7] RUN pip install pipenv                                    0.0s\n",
      "\u001b[0m\u001b[34m => CACHED [4/7] COPY [ Pipfile, Pipfile.lock, ./ ]                        0.0s\n",
      "\u001b[0m\u001b[34m => CACHED [5/7] RUN pipenv install --system --deploy                      0.0s\n",
      "\u001b[0m\u001b[34m => CACHED [6/7] RUN pip install --no-cache-dir pandas numpy scikit-learn  0.0s\n",
      "\u001b[0m\u001b[34m => CACHED [7/7] COPY [ script_cli.py, script_cli.py ]                     0.0s\n",
      "\u001b[0m\u001b[34m => exporting to image                                                     0.5s\n",
      "\u001b[0m\u001b[34m => => exporting layers                                                    0.0s\n",
      "\u001b[0m\u001b[34m => => writing image sha256:ba7acd689fbd2ded3ca94f3f421556369bc3138aa52b8  0.1s\n",
      "\u001b[0m\u001b[34m => => naming to docker.io/library/ride-duration-prediction                0.2s\n",
      "\u001b[0m\u001b[?25h\u001b[1A\u001b[1A\u001b[1A\u001b[1A\u001b[1A\u001b[1A\u001b[1A\u001b[1A\u001b[1A\u001b[1A\u001b[1A\u001b[1A\u001b[1A\u001b[1A\u001b[1A\u001b[1A\u001b[1A\u001b[1A\u001b[1A\u001b[0G\u001b[?25l[+] Building 2.2s (12/12)                                        docker:default\n",
      "\u001b[34m => [internal] load build definition from dockerfile                       0.2s\n",
      "\u001b[0m\u001b[34m => => transferring dockerfile: 386B                                       0.0s\n",
      "\u001b[0m\u001b[34m => [internal] load metadata for docker.io/agrigorev/zoomcamp-model:mlops  0.6s\n",
      "\u001b[0m\u001b[34m => [internal] load .dockerignore                                          0.2s\n",
      "\u001b[0m\u001b[34m => => transferring context: 2B                                            0.0s\n",
      "\u001b[0m\u001b[34m => [1/7] FROM docker.io/agrigorev/zoomcamp-model:mlops-2024-3.10.13-slim  0.0s\n",
      "\u001b[0m\u001b[34m => [internal] load build context                                          0.2s\n",
      "\u001b[0m\u001b[34m => => transferring context: 95B                                           0.0s\n",
      "\u001b[0m\u001b[34m => CACHED [2/7] RUN pip install -U pip                                    0.0s\n",
      "\u001b[0m\u001b[34m => CACHED [3/7] RUN pip install pipenv                                    0.0s\n",
      "\u001b[0m\u001b[34m => CACHED [4/7] COPY [ Pipfile, Pipfile.lock, ./ ]                        0.0s\n",
      "\u001b[0m\u001b[34m => CACHED [5/7] RUN pipenv install --system --deploy                      0.0s\n",
      "\u001b[0m\u001b[34m => CACHED [6/7] RUN pip install --no-cache-dir pandas numpy scikit-learn  0.0s\n",
      "\u001b[0m\u001b[34m => CACHED [7/7] COPY [ script_cli.py, script_cli.py ]                     0.0s\n",
      "\u001b[0m\u001b[34m => exporting to image                                                     0.5s\n",
      "\u001b[0m\u001b[34m => => exporting layers                                                    0.0s\n",
      "\u001b[0m\u001b[34m => => writing image sha256:ba7acd689fbd2ded3ca94f3f421556369bc3138aa52b8  0.1s\n",
      "\u001b[0m\u001b[34m => => naming to docker.io/library/ride-duration-prediction                0.2s\n",
      "\u001b[0m\u001b[?25h\u001b[1A\u001b[1A\u001b[1A\u001b[1A\u001b[1A\u001b[1A\u001b[1A\u001b[1A\u001b[1A\u001b[1A\u001b[1A\u001b[1A\u001b[1A\u001b[1A\u001b[1A\u001b[1A\u001b[1A\u001b[1A\u001b[1A\u001b[0G\u001b[?25l[+] Building 2.3s (12/12)                                        docker:default\n",
      "\u001b[34m => [internal] load build definition from dockerfile                       0.2s\n",
      "\u001b[0m\u001b[34m => => transferring dockerfile: 386B                                       0.0s\n",
      "\u001b[0m\u001b[34m => [internal] load metadata for docker.io/agrigorev/zoomcamp-model:mlops  0.6s\n",
      "\u001b[0m\u001b[34m => [internal] load .dockerignore                                          0.2s\n",
      "\u001b[0m\u001b[34m => => transferring context: 2B                                            0.0s\n",
      "\u001b[0m\u001b[34m => [1/7] FROM docker.io/agrigorev/zoomcamp-model:mlops-2024-3.10.13-slim  0.0s\n",
      "\u001b[0m\u001b[34m => [internal] load build context                                          0.2s\n",
      "\u001b[0m\u001b[34m => => transferring context: 95B                                           0.0s\n",
      "\u001b[0m\u001b[34m => CACHED [2/7] RUN pip install -U pip                                    0.0s\n",
      "\u001b[0m\u001b[34m => CACHED [3/7] RUN pip install pipenv                                    0.0s\n",
      "\u001b[0m\u001b[34m => CACHED [4/7] COPY [ Pipfile, Pipfile.lock, ./ ]                        0.0s\n",
      "\u001b[0m\u001b[34m => CACHED [5/7] RUN pipenv install --system --deploy                      0.0s\n",
      "\u001b[0m\u001b[34m => CACHED [6/7] RUN pip install --no-cache-dir pandas numpy scikit-learn  0.0s\n",
      "\u001b[0m\u001b[34m => CACHED [7/7] COPY [ script_cli.py, script_cli.py ]                     0.0s\n",
      "\u001b[0m\u001b[34m => exporting to image                                                     0.5s\n",
      "\u001b[0m\u001b[34m => => exporting layers                                                    0.0s\n",
      "\u001b[0m\u001b[34m => => writing image sha256:ba7acd689fbd2ded3ca94f3f421556369bc3138aa52b8  0.1s\n",
      "\u001b[0m\u001b[34m => => naming to docker.io/library/ride-duration-prediction                0.2s\n",
      "\u001b[0m\u001b[?25h\u001b[1A\u001b[1A\u001b[1A\u001b[1A\u001b[1A\u001b[1A\u001b[1A\u001b[1A\u001b[1A\u001b[1A\u001b[1A\u001b[1A\u001b[1A\u001b[1A\u001b[1A\u001b[1A\u001b[1A\u001b[1A\u001b[1A\u001b[0G\u001b[?25l[+] Building 2.5s (12/12)                                        docker:default\n",
      "\u001b[34m => [internal] load build definition from dockerfile                       0.2s\n",
      "\u001b[0m\u001b[34m => => transferring dockerfile: 386B                                       0.0s\n",
      "\u001b[0m\u001b[34m => [internal] load metadata for docker.io/agrigorev/zoomcamp-model:mlops  0.6s\n",
      "\u001b[0m\u001b[34m => [internal] load .dockerignore                                          0.2s\n",
      "\u001b[0m\u001b[34m => => transferring context: 2B                                            0.0s\n",
      "\u001b[0m\u001b[34m => [1/7] FROM docker.io/agrigorev/zoomcamp-model:mlops-2024-3.10.13-slim  0.0s\n",
      "\u001b[0m\u001b[34m => [internal] load build context                                          0.2s\n",
      "\u001b[0m\u001b[34m => => transferring context: 95B                                           0.0s\n",
      "\u001b[0m\u001b[34m => CACHED [2/7] RUN pip install -U pip                                    0.0s\n",
      "\u001b[0m\u001b[34m => CACHED [3/7] RUN pip install pipenv                                    0.0s\n",
      "\u001b[0m\u001b[34m => CACHED [4/7] COPY [ Pipfile, Pipfile.lock, ./ ]                        0.0s\n",
      "\u001b[0m\u001b[34m => CACHED [5/7] RUN pipenv install --system --deploy                      0.0s\n",
      "\u001b[0m\u001b[34m => CACHED [6/7] RUN pip install --no-cache-dir pandas numpy scikit-learn  0.0s\n",
      "\u001b[0m\u001b[34m => CACHED [7/7] COPY [ script_cli.py, script_cli.py ]                     0.0s\n",
      "\u001b[0m\u001b[34m => exporting to image                                                     0.5s\n",
      "\u001b[0m\u001b[34m => => exporting layers                                                    0.0s\n",
      "\u001b[0m\u001b[34m => => writing image sha256:ba7acd689fbd2ded3ca94f3f421556369bc3138aa52b8  0.1s\n",
      "\u001b[0m\u001b[34m => => naming to docker.io/library/ride-duration-prediction                0.2s\n",
      "\u001b[0m\u001b[?25h\u001b[1A\u001b[1A\u001b[1A\u001b[1A\u001b[1A\u001b[1A\u001b[1A\u001b[1A\u001b[1A\u001b[1A\u001b[1A\u001b[1A\u001b[1A\u001b[1A\u001b[1A\u001b[1A\u001b[1A\u001b[1A\u001b[1A\u001b[0G\u001b[?25l[+] Building 2.6s (12/12)                                        docker:default\n",
      "\u001b[34m => [internal] load build definition from dockerfile                       0.2s\n",
      "\u001b[0m\u001b[34m => => transferring dockerfile: 386B                                       0.0s\n",
      "\u001b[0m\u001b[34m => [internal] load metadata for docker.io/agrigorev/zoomcamp-model:mlops  0.6s\n",
      "\u001b[0m\u001b[34m => [internal] load .dockerignore                                          0.2s\n",
      "\u001b[0m\u001b[34m => => transferring context: 2B                                            0.0s\n",
      "\u001b[0m\u001b[34m => [1/7] FROM docker.io/agrigorev/zoomcamp-model:mlops-2024-3.10.13-slim  0.0s\n",
      "\u001b[0m\u001b[34m => [internal] load build context                                          0.2s\n",
      "\u001b[0m\u001b[34m => => transferring context: 95B                                           0.0s\n",
      "\u001b[0m\u001b[34m => CACHED [2/7] RUN pip install -U pip                                    0.0s\n",
      "\u001b[0m\u001b[34m => CACHED [3/7] RUN pip install pipenv                                    0.0s\n",
      "\u001b[0m\u001b[34m => CACHED [4/7] COPY [ Pipfile, Pipfile.lock, ./ ]                        0.0s\n",
      "\u001b[0m\u001b[34m => CACHED [5/7] RUN pipenv install --system --deploy                      0.0s\n",
      "\u001b[0m\u001b[34m => CACHED [6/7] RUN pip install --no-cache-dir pandas numpy scikit-learn  0.0s\n",
      "\u001b[0m\u001b[34m => CACHED [7/7] COPY [ script_cli.py, script_cli.py ]                     0.0s\n",
      "\u001b[0m\u001b[34m => exporting to image                                                     0.5s\n",
      "\u001b[0m\u001b[34m => => exporting layers                                                    0.0s\n",
      "\u001b[0m\u001b[34m => => writing image sha256:ba7acd689fbd2ded3ca94f3f421556369bc3138aa52b8  0.1s\n",
      "\u001b[0m\u001b[34m => => naming to docker.io/library/ride-duration-prediction                0.2s\n",
      "\u001b[0m\u001b[?25h\u001b[1A\u001b[1A\u001b[1A\u001b[1A\u001b[1A\u001b[1A\u001b[1A\u001b[1A\u001b[1A\u001b[1A\u001b[1A\u001b[1A\u001b[1A\u001b[1A\u001b[1A\u001b[1A\u001b[1A\u001b[1A\u001b[1A\u001b[0G\u001b[?25l[+] Building 2.8s (12/12)                                        docker:default\n",
      "\u001b[34m => [internal] load build definition from dockerfile                       0.2s\n",
      "\u001b[0m\u001b[34m => => transferring dockerfile: 386B                                       0.0s\n",
      "\u001b[0m\u001b[34m => [internal] load metadata for docker.io/agrigorev/zoomcamp-model:mlops  0.6s\n",
      "\u001b[0m\u001b[34m => [internal] load .dockerignore                                          0.2s\n",
      "\u001b[0m\u001b[34m => => transferring context: 2B                                            0.0s\n",
      "\u001b[0m\u001b[34m => [1/7] FROM docker.io/agrigorev/zoomcamp-model:mlops-2024-3.10.13-slim  0.0s\n",
      "\u001b[0m\u001b[34m => [internal] load build context                                          0.2s\n",
      "\u001b[0m\u001b[34m => => transferring context: 95B                                           0.0s\n",
      "\u001b[0m\u001b[34m => CACHED [2/7] RUN pip install -U pip                                    0.0s\n",
      "\u001b[0m\u001b[34m => CACHED [3/7] RUN pip install pipenv                                    0.0s\n",
      "\u001b[0m\u001b[34m => CACHED [4/7] COPY [ Pipfile, Pipfile.lock, ./ ]                        0.0s\n",
      "\u001b[0m\u001b[34m => CACHED [5/7] RUN pipenv install --system --deploy                      0.0s\n",
      "\u001b[0m\u001b[34m => CACHED [6/7] RUN pip install --no-cache-dir pandas numpy scikit-learn  0.0s\n",
      "\u001b[0m\u001b[34m => CACHED [7/7] COPY [ script_cli.py, script_cli.py ]                     0.0s\n",
      "\u001b[0m\u001b[34m => exporting to image                                                     0.5s\n",
      "\u001b[0m\u001b[34m => => exporting layers                                                    0.0s\n",
      "\u001b[0m\u001b[34m => => writing image sha256:ba7acd689fbd2ded3ca94f3f421556369bc3138aa52b8  0.1s\n",
      "\u001b[0m\u001b[34m => => naming to docker.io/library/ride-duration-prediction                0.2s\n",
      "\u001b[0m\u001b[?25h\u001b[1A\u001b[1A\u001b[1A\u001b[1A\u001b[1A\u001b[1A\u001b[1A\u001b[1A\u001b[1A\u001b[1A\u001b[1A\u001b[1A\u001b[1A\u001b[1A\u001b[1A\u001b[1A\u001b[1A\u001b[1A\u001b[1A\u001b[0G\u001b[?25l[+] Building 2.9s (12/12)                                        docker:default\n",
      "\u001b[34m => [internal] load build definition from dockerfile                       0.2s\n",
      "\u001b[0m\u001b[34m => => transferring dockerfile: 386B                                       0.0s\n",
      "\u001b[0m\u001b[34m => [internal] load metadata for docker.io/agrigorev/zoomcamp-model:mlops  0.6s\n",
      "\u001b[0m\u001b[34m => [internal] load .dockerignore                                          0.2s\n",
      "\u001b[0m\u001b[34m => => transferring context: 2B                                            0.0s\n",
      "\u001b[0m\u001b[34m => [1/7] FROM docker.io/agrigorev/zoomcamp-model:mlops-2024-3.10.13-slim  0.0s\n",
      "\u001b[0m\u001b[34m => [internal] load build context                                          0.2s\n",
      "\u001b[0m\u001b[34m => => transferring context: 95B                                           0.0s\n",
      "\u001b[0m\u001b[34m => CACHED [2/7] RUN pip install -U pip                                    0.0s\n",
      "\u001b[0m\u001b[34m => CACHED [3/7] RUN pip install pipenv                                    0.0s\n",
      "\u001b[0m\u001b[34m => CACHED [4/7] COPY [ Pipfile, Pipfile.lock, ./ ]                        0.0s\n",
      "\u001b[0m\u001b[34m => CACHED [5/7] RUN pipenv install --system --deploy                      0.0s\n",
      "\u001b[0m\u001b[34m => CACHED [6/7] RUN pip install --no-cache-dir pandas numpy scikit-learn  0.0s\n",
      "\u001b[0m\u001b[34m => CACHED [7/7] COPY [ script_cli.py, script_cli.py ]                     0.0s\n",
      "\u001b[0m\u001b[34m => exporting to image                                                     0.5s\n",
      "\u001b[0m\u001b[34m => => exporting layers                                                    0.0s\n",
      "\u001b[0m\u001b[34m => => writing image sha256:ba7acd689fbd2ded3ca94f3f421556369bc3138aa52b8  0.1s\n",
      "\u001b[0m\u001b[34m => => naming to docker.io/library/ride-duration-prediction                0.2s\n",
      "\u001b[0m\u001b[?25h\u001b[1A\u001b[1A\u001b[1A\u001b[1A\u001b[1A\u001b[1A\u001b[1A\u001b[1A\u001b[1A\u001b[1A\u001b[1A\u001b[1A\u001b[1A\u001b[1A\u001b[1A\u001b[1A\u001b[1A\u001b[1A\u001b[1A\u001b[0G\u001b[?25l[+] Building 2.9s (12/12) FINISHED                               docker:default\n",
      "\u001b[34m => [internal] load build definition from dockerfile                       0.2s\n",
      "\u001b[0m\u001b[34m => => transferring dockerfile: 386B                                       0.0s\n",
      "\u001b[0m\u001b[34m => [internal] load metadata for docker.io/agrigorev/zoomcamp-model:mlops  0.6s\n",
      "\u001b[0m\u001b[34m => [internal] load .dockerignore                                          0.2s\n",
      "\u001b[0m\u001b[34m => => transferring context: 2B                                            0.0s\n",
      "\u001b[0m\u001b[34m => [1/7] FROM docker.io/agrigorev/zoomcamp-model:mlops-2024-3.10.13-slim  0.0s\n",
      "\u001b[0m\u001b[34m => [internal] load build context                                          0.2s\n",
      "\u001b[0m\u001b[34m => => transferring context: 95B                                           0.0s\n",
      "\u001b[0m\u001b[34m => CACHED [2/7] RUN pip install -U pip                                    0.0s\n",
      "\u001b[0m\u001b[34m => CACHED [3/7] RUN pip install pipenv                                    0.0s\n",
      "\u001b[0m\u001b[34m => CACHED [4/7] COPY [ Pipfile, Pipfile.lock, ./ ]                        0.0s\n",
      "\u001b[0m\u001b[34m => CACHED [5/7] RUN pipenv install --system --deploy                      0.0s\n",
      "\u001b[0m\u001b[34m => CACHED [6/7] RUN pip install --no-cache-dir pandas numpy scikit-learn  0.0s\n",
      "\u001b[0m\u001b[34m => CACHED [7/7] COPY [ script_cli.py, script_cli.py ]                     0.0s\n",
      "\u001b[0m\u001b[34m => exporting to image                                                     0.5s\n",
      "\u001b[0m\u001b[34m => => exporting layers                                                    0.0s\n",
      "\u001b[0m\u001b[34m => => writing image sha256:ba7acd689fbd2ded3ca94f3f421556369bc3138aa52b8  0.1s\n",
      "\u001b[0m\u001b[34m => => naming to docker.io/library/ride-duration-prediction                0.2s\n",
      "\u001b[0m\u001b[?25h"
     ]
    }
   ],
   "source": [
    "!docker build -t ride-duration-prediction ."
   ]
  },
  {
   "cell_type": "code",
   "execution_count": 27,
   "id": "6fd51357",
   "metadata": {},
   "outputs": [
    {
     "name": "stdout",
     "output_type": "stream",
     "text": [
      "/usr/local/lib/python3.10/site-packages/sklearn/base.py:380: InconsistentVersionWarning: Trying to unpickle estimator DictVectorizer from version 1.5.0 when using version 1.6.1. This might lead to breaking code or invalid results. Use at your own risk. For more info please refer to:\n",
      "https://scikit-learn.org/stable/model_persistence.html#security-maintainability-limitations\n",
      "  warnings.warn(\n",
      "/usr/local/lib/python3.10/site-packages/sklearn/base.py:380: InconsistentVersionWarning: Trying to unpickle estimator LinearRegression from version 1.5.0 when using version 1.6.1. This might lead to breaking code or invalid results. Use at your own risk. For more info please refer to:\n",
      "https://scikit-learn.org/stable/model_persistence.html#security-maintainability-limitations\n",
      "  warnings.warn(\n",
      "Mean predicted duration for 05/2023: 0.19 minutes\n"
     ]
    }
   ],
   "source": [
    "!docker run --rm ride-duration-prediction\n"
   ]
  },
  {
   "cell_type": "code",
   "execution_count": null,
   "id": "40cb4ea3",
   "metadata": {},
   "outputs": [],
   "source": []
  }
 ],
 "metadata": {
  "kernelspec": {
   "display_name": "slprf",
   "language": "python",
   "name": "python3"
  },
  "language_info": {
   "codemirror_mode": {
    "name": "ipython",
    "version": 3
   },
   "file_extension": ".py",
   "mimetype": "text/x-python",
   "name": "python",
   "nbconvert_exporter": "python",
   "pygments_lexer": "ipython3",
   "version": "3.12.3"
  }
 },
 "nbformat": 4,
 "nbformat_minor": 5
}
