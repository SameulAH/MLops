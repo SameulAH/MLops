{
 "cells": [
  {
   "cell_type": "markdown",
   "id": "8ad7cf96-d435-427b-91c1-2c29706c63cb",
   "metadata": {},
   "source": [
    "\n",
    "## Homework\n",
    "\n",
    "The goal of this homework is to familiarize users with monitoring for ML batch services, using PostgreSQL database to store metrics and Grafana to visualize them.\n",
    "\n",
    "\n"
   ]
  },
  {
   "cell_type": "code",
   "execution_count": 1,
   "id": "b54264e6eb117908",
   "metadata": {},
   "outputs": [],
   "source": [
    "import requests\n",
    "import datetime\n",
    "import pandas as pd\n",
    "\n",
    "from evidently import DataDefinition\n",
    "from evidently import Dataset\n",
    "from evidently import Report\n",
    "from evidently.metrics import ValueDrift, DriftedColumnsCount, MissingValueCount, QuantileValue\n",
    "\n",
    "from joblib import load, dump\n",
    "from tqdm import tqdm\n",
    "\n",
    "from sklearn.linear_model import LinearRegression\n",
    "from sklearn.metrics import mean_absolute_error, mean_absolute_percentage_error"
   ]
  },
  {
   "cell_type": "code",
   "execution_count": 2,
   "id": "46aeb5ac-bfb7-4fe4-b732-6bf372ba2e95",
   "metadata": {},
   "outputs": [
    {
     "name": "stdout",
     "output_type": "stream",
     "text": [
      "mkdir: cannot create directory ‘data’: File exists\n"
     ]
    }
   ],
   "source": [
    "! mkdir data"
   ]
  },
  {
   "cell_type": "markdown",
   "id": "68a30c63-103e-436a-bf25-48c6cc815f86",
   "metadata": {},
   "source": [
    "\n",
    "## Q1. Prepare the dataset\n",
    "\n",
    "Start with `baseline_model_nyc_taxi_data.ipynb`. Download the March 2024 Green Taxi data. We will use this data to simulate a production usage of a taxi trip duration prediction service.\n",
    "\n",
    "What is the shape of the downloaded data? How many rows are there?\n",
    "\n",
    "* 72044\n",
    "* 78537 \n",
    "* **57457**\n",
    "* 54396"
   ]
  },
  {
   "cell_type": "code",
   "execution_count": 3,
   "id": "c935a6bc588248d7",
   "metadata": {},
   "outputs": [
    {
     "name": "stdout",
     "output_type": "stream",
     "text": [
      "Download files:\n"
     ]
    },
    {
     "name": "stderr",
     "output_type": "stream",
     "text": [
      "green_tripdata_2024-03.parquet: 100%|███████████████████████████████████████████████████████████████████████████████████████████| 1372372/1372372 [00:08<00:00, 167684.60it/s, save to ./data/green_tripdata_2024-03.parquet]\n"
     ]
    }
   ],
   "source": [
    "files = [('green_tripdata_2024-03.parquet', './data')]\n",
    "\n",
    "print(\"Download files:\")\n",
    "for file, path in files:\n",
    "    url=f\"https://d37ci6vzurychx.cloudfront.net/trip-data/{file}\"\n",
    "    resp=requests.get(url, stream=True)\n",
    "    save_path=f\"{path}/{file}\"\n",
    "    with open(save_path, \"wb\") as handle:\n",
    "        for data in tqdm(resp.iter_content(),\n",
    "                        desc=f\"{file}\",\n",
    "                        postfix=f\"save to {save_path}\",\n",
    "                        total=int(resp.headers[\"Content-Length\"])):\n",
    "            handle.write(data)"
   ]
  },
  {
   "cell_type": "code",
   "execution_count": 4,
   "id": "10f4d69997668ea8",
   "metadata": {},
   "outputs": [],
   "source": [
    "march_data = pd.read_parquet('data/green_tripdata_2024-03.parquet')"
   ]
  },
  {
   "cell_type": "code",
   "execution_count": 5,
   "id": "abc417723077a646",
   "metadata": {},
   "outputs": [
    {
     "data": {
      "text/plain": [
       "(57457, 20)"
      ]
     },
     "execution_count": 5,
     "metadata": {},
     "output_type": "execute_result"
    }
   ],
   "source": [
    "march_data.shape"
   ]
  },
  {
   "cell_type": "markdown",
   "id": "2ae04a56-8636-467c-85ef-b1b9207ec960",
   "metadata": {},
   "source": [
    "\n",
    "\n",
    "\n",
    "## Q2. Metric\n",
    "\n",
    "Let's expand the number of data quality metrics we’d like to monitor! Please add one metric of your choice and a quantile value for the `\"fare_amount\"` column (`quantile=0.5`).\n",
    "\n",
    "Hint: explore evidently metric `ColumnQuantileMetric` (from `evidently.metrics import ColumnQuantileMetric`) \n",
    "\n",
    "What metric did you choose?\n",
    "\n",
    "**I chose the *QuantileValue* metric on the column fare_amount with quantile=0.5.**\n"
   ]
  },
  {
   "cell_type": "code",
   "execution_count": 6,
   "id": "543ca2a7e4f00a45",
   "metadata": {},
   "outputs": [],
   "source": [
    "report = Report(metrics=[\n",
    "    ValueDrift(column='prediction'),\n",
    "    DriftedColumnsCount(),\n",
    "    MissingValueCount(column='prediction'),\n",
    "    QuantileValue(column=\"fare_amount\", quantile=0.5)\n",
    "]\n",
    ")"
   ]
  },
  {
   "cell_type": "markdown",
   "id": "85046605-6050-427e-a19e-7f40f75feb00",
   "metadata": {},
   "source": [
    "\n",
    "## Q3. Monitoring\n",
    "\n",
    "Let’s start monitoring. Run expanded monitoring for a new batch of data (March 2024). \n",
    "\n",
    "What is the maximum value of metric `quantile = 0.5` on the `\"fare_amount\"` column during March 2024 (calculated daily)?\n",
    "\n",
    "* 10\n",
    "* 12.5\n",
    "* **14.2**\n",
    "* 14.8\n",
    "\n"
   ]
  },
  {
   "cell_type": "code",
   "execution_count": 7,
   "id": "281a27332b636f09",
   "metadata": {},
   "outputs": [],
   "source": [
    "# create target\n",
    "march_data[\"duration_min\"] = march_data.lpep_dropoff_datetime - march_data.lpep_pickup_datetime\n",
    "march_data.duration_min = march_data.duration_min.apply(lambda td : float(td.total_seconds())/60)"
   ]
  },
  {
   "cell_type": "code",
   "execution_count": 8,
   "id": "53880bc897446f97",
   "metadata": {},
   "outputs": [],
   "source": [
    "# filter out outliers\n",
    "march_data = march_data[(march_data.duration_min >= 0) & (march_data.duration_min <= 60)]\n",
    "march_data = march_data[(march_data.passenger_count > 0) & (march_data.passenger_count <= 8)]"
   ]
  },
  {
   "cell_type": "code",
   "execution_count": 9,
   "id": "1c36e0ebfb0879ec",
   "metadata": {},
   "outputs": [],
   "source": [
    "# data labeling\n",
    "num_features = [\"passenger_count\", \"trip_distance\", \"fare_amount\", \"total_amount\"]\n",
    "cat_features = [\"PULocationID\", \"DOLocationID\"]"
   ]
  },
  {
   "cell_type": "code",
   "execution_count": 10,
   "id": "1e10db1a0250c1ab",
   "metadata": {},
   "outputs": [],
   "source": [
    "data_definition = DataDefinition(\n",
    "    numerical_columns=num_features + ['prediction'],\n",
    "    categorical_columns=cat_features\n",
    ")"
   ]
  },
  {
   "cell_type": "code",
   "execution_count": 11,
   "id": "9160dc02-b0d6-46f2-8c52-608e92dc0453",
   "metadata": {},
   "outputs": [
    {
     "name": "stdout",
     "output_type": "stream",
     "text": [
      "2024-03-01 -> Q50 = 13.5\n",
      "2024-03-02 -> Q50 = 12.8\n",
      "2024-03-03 -> Q50 = 14.2\n",
      "2024-03-04 -> Q50 = 12.8\n",
      "2024-03-05 -> Q50 = 12.8\n",
      "2024-03-06 -> Q50 = 12.8\n",
      "2024-03-07 -> Q50 = 13.5\n",
      "2024-03-08 -> Q50 = 12.8\n",
      "2024-03-09 -> Q50 = 13.5\n",
      "2024-03-10 -> Q50 = 14.2\n",
      "2024-03-11 -> Q50 = 12.8\n",
      "2024-03-12 -> Q50 = 12.8\n",
      "2024-03-13 -> Q50 = 13.5\n",
      "2024-03-14 -> Q50 = 14.2\n",
      "2024-03-15 -> Q50 = 13.5\n",
      "2024-03-16 -> Q50 = 13.5\n",
      "2024-03-17 -> Q50 = 13.5\n",
      "2024-03-18 -> Q50 = 12.8\n",
      "2024-03-19 -> Q50 = 13.5\n",
      "2024-03-20 -> Q50 = 12.8\n",
      "2024-03-21 -> Q50 = 13.5\n",
      "2024-03-22 -> Q50 = 12.8\n",
      "2024-03-23 -> Q50 = 12.8\n",
      "2024-03-24 -> Q50 = 14.015\n",
      "2024-03-25 -> Q50 = 13.5\n",
      "2024-03-26 -> Q50 = 13.5\n",
      "2024-03-27 -> Q50 = 12.8\n",
      "2024-03-28 -> Q50 = 13.25\n",
      "2024-03-29 -> Q50 = 12.8\n",
      "2024-03-30 -> Q50 = 14.0\n",
      "2024-03-31 -> Q50 = 13.5\n"
     ]
    }
   ],
   "source": [
    "q50_results = []\n",
    "\n",
    "for day in range(1, 32):\n",
    "    day_start = datetime.datetime(2024, 3, day)\n",
    "    day_end = day_start + datetime.timedelta(days=1)\n",
    "\n",
    "    day_data = march_data[\n",
    "        (march_data.lpep_pickup_datetime >= day_start) &\n",
    "        (march_data.lpep_pickup_datetime < day_end)\n",
    "    ]\n",
    "\n",
    "    if len(day_data) == 0:\n",
    "        continue\n",
    "\n",
    "    dataset = Dataset.from_pandas(day_data, data_definition=data_definition)\n",
    "\n",
    "    report = Report(metrics=[\n",
    "        QuantileValue(column=\"fare_amount\", quantile=0.5)\n",
    "    ])\n",
    "\n",
    "    result = report.run(current_data=dataset).dict()\n",
    "    q50 = result['metrics'][0]['value']\n",
    "    q50_results.append(q50)\n",
    "\n",
    "    print(f\"{day_start.date()} -> Q50 = {q50}\")"
   ]
  },
  {
   "cell_type": "code",
   "execution_count": 12,
   "id": "4afd24ba-2eb6-49f1-96cc-3149d347dfae",
   "metadata": {},
   "outputs": [
    {
     "name": "stdout",
     "output_type": "stream",
     "text": [
      "\n",
      "🔎 Max quantile 0.5 of fare_amount in March 2024: 14.2\n"
     ]
    }
   ],
   "source": [
    "max_q50 = max(q50_results)\n",
    "print(f\"\\n🔎 Max quantile 0.5 of fare_amount in March 2024: {max_q50}\")"
   ]
  },
  {
   "cell_type": "markdown",
   "id": "edab3cd3-e5a8-4b63-8b8d-c9ef758571b8",
   "metadata": {},
   "source": [
    "\n",
    "## Q4. Dashboard\n",
    "\n",
    "\n",
    "Finally, let’s add panels with new added metrics to the dashboard. After we customize the  dashboard let's save a dashboard config, so that we can access it later. Hint: click on “Save dashboard” to access JSON configuration of the dashboard. This configuration should be saved locally.\n",
    "\n",
    "Where to place a dashboard config file?\n",
    "\n",
    "* `project_folder` (05-monitoring)\n",
    "* **`project_folder/config`  (05-monitoring/config)**\n",
    "* `project_folder/dashboards`  (05-monitoring/dashboards)\n",
    "* `project_folder/data`  (05-monitoring/data)\n",
    "\n"
   ]
  },
  {
   "cell_type": "code",
   "execution_count": 13,
   "id": "755c48c29d032e40",
   "metadata": {},
   "outputs": [
    {
     "name": "stdout",
     "output_type": "stream",
     "text": [
      "grafana_dashboards.yaml  grafana_datasources.yaml\n"
     ]
    }
   ],
   "source": [
    "!ls config"
   ]
  },
  {
   "cell_type": "markdown",
   "id": "edad5e52-3eb9-4289-98d4-3dc38f8246cf",
   "metadata": {},
   "source": [
    "\n",
    "\n",
    "## Submit the results\n",
    "\n",
    "* Submit your answers here: https://courses.datatalks.club/mlops-zoomcamp-2025/homework/hw5"
   ]
  }
 ],
 "metadata": {
  "kernelspec": {
   "display_name": "slprf",
   "language": "python",
   "name": "python3"
  },
  "language_info": {
   "codemirror_mode": {
    "name": "ipython",
    "version": 3
   },
   "file_extension": ".py",
   "mimetype": "text/x-python",
   "name": "python",
   "nbconvert_exporter": "python",
   "pygments_lexer": "ipython3",
   "version": "3.12.3"
  }
 },
 "nbformat": 4,
 "nbformat_minor": 5
}
